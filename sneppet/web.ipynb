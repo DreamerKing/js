{
 "cells": [
  {
   "cell_type": "code",
   "execution_count": null,
   "metadata": {
    "vscode": {
     "languageId": "javascript"
    }
   },
   "outputs": [],
   "source": [
    "const blob = new Blob([data], { type: \"image/jpeg\" });\n",
    "const blobUrl = URL.createObjectURL(blob);\n",
    "{/* <img src=\"blobUrl\"> */ }\n",
    "const canvasEl = document.getElementById('#canvas');\n",
    "const canvas = canvasEl.getContext('2d');\n",
    "const image = new Image();\n",
    "image.onload = () => {\n",
    "  canvas.drawImage(image, 0, 0, width, height);\n",
    "}"
   ]
  }
 ],
 "metadata": {
  "language_info": {
   "name": "python"
  }
 },
 "nbformat": 4,
 "nbformat_minor": 2
}
